{
 "cells": [
  {
   "cell_type": "markdown",
   "id": "461037ec-78b9-493e-9dc7-e7aeeebd9da3",
   "metadata": {},
   "source": [
    "Download the tool here:  http://www.kazusa.or.jp/komics/en/tool-en/218-flavonoidsearch.html\n",
    "\n",
    "see also: Akimoto N, Ara T, Nakajima D, Suda K, Ikeda C, Takahashi S, Muneto R, Yamada M, Suzuki H, Shibata D and Sakurai N (2017) FlavonoidSearch: A system for comprehensive flavonoid annotation by mass spectrometry, Scientific Reports 7: 1243 (2017)"
   ]
  },
  {
   "cell_type": "code",
   "execution_count": 1,
   "id": "fac2cd88-da98-4cb7-8e14-165b4f189b69",
   "metadata": {},
   "outputs": [],
   "source": [
    "SampleList=[]\n",
    "\n",
    "ScanList=[]\n",
    "with open(\"spiked_feb_clean.mgf\", 'r') as f:     #Reads a GNPS like mgf into a List  \n",
    " counter=0\n",
    " for line in f:\n",
    "     line=line.strip('\\n')\n",
    "     if  line.startswith('FEATURE_ID'):\n",
    "         ListID=line.split('=')\n",
    "         ScanList.append(ListID)       \n",
    "          \n",
    "     elif line.startswith('PEPMASS'):\n",
    "         ListPEPMASS=line.split('=')\n",
    "         #ListPEPfloat= float(ListPEPMASS[1])\n",
    "         ScanList.append(ListPEPMASS) \n",
    "         \n",
    "     elif line.startswith('SCANS'):\n",
    "         ListSCANS=line.split('=')\n",
    "         ScanList.append(ListSCANS)\n",
    "         \n",
    "     elif line.startswith('RTINSECONDS'):\n",
    "         ListRT=line.split('=')\n",
    "         ScanList.append(ListRT)\n",
    "         \n",
    "     elif line.startswith('CHARGE'):\n",
    "         ListCHARGE=line.split('=')\n",
    "         #ListCHARGEfloat= float(ListCHARGE[1])\n",
    "         ScanList.append(ListCHARGE)\n",
    "         #ScanList.append([])\n",
    "         #print ListCHARGE\n",
    "     elif line.startswith('MSLEVEL'):\n",
    "         ListRT=line.split('=')\n",
    "         ScanList.append(ListRT)\n",
    "         \n",
    "     elif line.startswith(('0', '1', '2', '3', '4', '5', '6', '7', '8', '9')):\n",
    "         ListMZandInt=line.split(' ')\n",
    "         #print(ListMZandInt)\n",
    "         #ListMZandIntfloat0= float(ListMZandInt[0])\n",
    "         #ListMZandIntfloat1= float(ListMZandInt[1])\n",
    "         #ListMZandIntfloat=[ListMZandIntfloat1,ListMZandIntfloat0]\n",
    "         \n",
    "         #print(ScanList)\n",
    "         ScanList.append(ListMZandInt)\n",
    "         \n",
    "         #print ScanList\n",
    "         #sys.exit(0)\n",
    "         #print ListMZandInt\n",
    "     elif line.startswith('END IONS'):\n",
    "         if len(ScanList[5:])>4:   # parse only if more than three fragments\n",
    "                SampleList.append(ScanList)\n",
    "         ScanList=[]"
   ]
  },
  {
   "cell_type": "code",
   "execution_count": 2,
   "id": "def0c4d7-3590-4425-90a1-4af682632677",
   "metadata": {},
   "outputs": [],
   "source": [
    "for i in SampleList:\n",
    "    with open('/Users/delser/Git/phd/files/%s.txt' %(i[0][1]) , 'w') as f: # intermediate files for each feature\n",
    "        f.write(\"PrecursorMZ: \")\n",
    "        f.write(i[1][1])\n",
    "        f.write('\\n')\n",
    "        f.write(\"Num peaks: \")\n",
    "        f.write(str(len(i)-6))\n",
    "        f.write('\\n')\n",
    "        for item in i[6:]:\n",
    "            f.write(item[0])\n",
    "            f.write('\\t')\n",
    "            f.write(str(int(float(item[1])) )) #E to integer\n",
    "            f.write('\\n')\n",
    "            \n",
    "       "
   ]
  },
  {
   "cell_type": "code",
   "execution_count": 3,
   "id": "2e496b18-ce80-4f43-92f8-ba1879149aac",
   "metadata": {
    "tags": []
   },
   "outputs": [],
   "source": [
    "import glob\n",
    "import subprocess\n",
    "results=[]\n",
    "\n",
    "for filepath in glob.iglob('/Users/delser/Git/phd/files/*.txt'): # run flavonoid tool for each feature file\n",
    "    #print(filepath)\n",
    "    f_id=filepath[:-4].split(\"/\")\n",
    "    #print(f_id[6])\n",
    "    x=subprocess.check_output(['java', '-jar','FlavonoidSearchTool.jar', '-i', '%s' %(filepath) , '-p' ,'0.005']) # accuracy in da\n",
    "    y=(x.decode('ascii'))\n",
    "    output=y.split(\"\\n\")\n",
    "    results.append([f_id[6],output])\n",
    "   "
   ]
  },
  {
   "cell_type": "code",
   "execution_count": 4,
   "id": "e1073cc7-a835-4339-8c5b-0246ab59c790",
   "metadata": {
    "tags": []
   },
   "outputs": [],
   "source": [
    "with open(\"/Users/delser/Git/phd/files/output.txt\", 'w') as f: #write everthing down into one output file\n",
    "    f.write('ID\\tNo\\tJaccardScore\\tIonizedAglyconeFormula\\tIonizedAglyconeMass\\tMSMS-categoryID\\tMSMS-categoryName\\tSymbolizedNameID\\tSymbolizedName\\tMSMS-aglyconeID\\tMSMS-aglyconeName\\tRelatedID\\tRelatedCAS')\n",
    "    f.write('\\n')\n",
    "    for item in results:\n",
    "        if not item[1][0] =='No hit found.':\n",
    "            #print(item[0])\n",
    "            for i in item[1][1:-1]:\n",
    "                f.write(item[0])\n",
    "                f.write('\\t')\n",
    "                f.write(i)\n",
    "                f.write('\\n')\n",
    "        else:\n",
    "            pass\n",
    "\n",
    "\n",
    "    "
   ]
  }
 ],
 "metadata": {
  "kernelspec": {
   "display_name": "Python 3",
   "language": "python",
   "name": "python3"
  },
  "language_info": {
   "codemirror_mode": {
    "name": "ipython",
    "version": 3
   },
   "file_extension": ".py",
   "mimetype": "text/x-python",
   "name": "python",
   "nbconvert_exporter": "python",
   "pygments_lexer": "ipython3",
   "version": "3.8.13"
  }
 },
 "nbformat": 4,
 "nbformat_minor": 5
}
